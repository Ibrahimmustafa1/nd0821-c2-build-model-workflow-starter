{
 "cells": [
  {
   "cell_type": "code",
   "execution_count": 1,
   "metadata": {},
   "outputs": [
    {
     "name": "stdout",
     "output_type": "stream",
     "text": [
      "Requirement already satisfied: protobuf in /opt/conda/envs/mlflow-05200bb1b9d2b6fc2bb55a121c3dcd22ef01d633/lib/python3.9/site-packages (3.20.3)\n"
     ]
    }
   ],
   "source": [
    "! pip install protobuf\n",
    "! export PROTOCOL_BUFFERS_PYTHON_IMPLEMENTATION=python\n"
   ]
  },
  {
   "cell_type": "code",
   "execution_count": 2,
   "metadata": {},
   "outputs": [
    {
     "name": "stdout",
     "output_type": "stream",
     "text": [
      "Requirement already satisfied: pandas in /opt/conda/envs/mlflow-05200bb1b9d2b6fc2bb55a121c3dcd22ef01d633/lib/python3.9/site-packages (2.2.2)\n",
      "Requirement already satisfied: pytz>=2020.1 in /opt/conda/envs/mlflow-05200bb1b9d2b6fc2bb55a121c3dcd22ef01d633/lib/python3.9/site-packages (from pandas) (2024.1)\n",
      "Requirement already satisfied: python-dateutil>=2.8.2 in /opt/conda/envs/mlflow-05200bb1b9d2b6fc2bb55a121c3dcd22ef01d633/lib/python3.9/site-packages (from pandas) (2.9.0)\n",
      "Requirement already satisfied: numpy>=1.22.4 in /opt/conda/envs/mlflow-05200bb1b9d2b6fc2bb55a121c3dcd22ef01d633/lib/python3.9/site-packages (from pandas) (1.26.4)\n",
      "Requirement already satisfied: tzdata>=2022.7 in /opt/conda/envs/mlflow-05200bb1b9d2b6fc2bb55a121c3dcd22ef01d633/lib/python3.9/site-packages (from pandas) (2024.1)\n",
      "Requirement already satisfied: six>=1.5 in /opt/conda/envs/mlflow-05200bb1b9d2b6fc2bb55a121c3dcd22ef01d633/lib/python3.9/site-packages (from python-dateutil>=2.8.2->pandas) (1.16.0)\n"
     ]
    }
   ],
   "source": [
    "! pip install pandas"
   ]
  },
  {
   "cell_type": "code",
   "execution_count": 3,
   "metadata": {},
   "outputs": [
    {
     "name": "stdout",
     "output_type": "stream",
     "text": [
      "Name: protobuf\n",
      "Version: 3.20.3\n",
      "Summary: Protocol Buffers\n",
      "Home-page: https://developers.google.com/protocol-buffers/\n",
      "Author: None\n",
      "Author-email: None\n",
      "License: BSD-3-Clause\n",
      "Location: /opt/conda/envs/mlflow-05200bb1b9d2b6fc2bb55a121c3dcd22ef01d633/lib/python3.9/site-packages\n",
      "Requires: \n",
      "Required-by: wandb, mlflow\n"
     ]
    }
   ],
   "source": [
    "! pip show protobuf "
   ]
  },
  {
   "cell_type": "code",
   "execution_count": 4,
   "metadata": {},
   "outputs": [
    {
     "name": "stderr",
     "output_type": "stream",
     "text": [
      "Failed to detect the name of this notebook, you can set it manually with the WANDB_NOTEBOOK_NAME environment variable to enable code saving.\n",
      "\u001b[34m\u001b[1mwandb\u001b[0m: Currently logged in as: \u001b[33mhttps-must-edu-eg-apply-to-must-\u001b[0m (use `wandb login --relogin` to force relogin)\n",
      "\u001b[34m\u001b[1mwandb\u001b[0m: wandb version 0.17.2 is available!  To upgrade, please run:\n",
      "\u001b[34m\u001b[1mwandb\u001b[0m:  $ pip install wandb --upgrade\n"
     ]
    },
    {
     "data": {
      "text/html": [
       "\n",
       "                Tracking run with wandb version 0.10.31<br/>\n",
       "                Syncing run <strong style=\"color:#cdcd00\">firm-firefly-127</strong> to <a href=\"https://wandb.ai\" target=\"_blank\">Weights & Biases</a> <a href=\"https://docs.wandb.com/integrations/jupyter.html\" target=\"_blank\">(Documentation)</a>.<br/>\n",
       "                Project page: <a href=\"https://wandb.ai/https-must-edu-eg-apply-to-must-/nyc_airbnb\" target=\"_blank\">https://wandb.ai/https-must-edu-eg-apply-to-must-/nyc_airbnb</a><br/>\n",
       "                Run page: <a href=\"https://wandb.ai/https-must-edu-eg-apply-to-must-/nyc_airbnb/runs/678e5a1a\" target=\"_blank\">https://wandb.ai/https-must-edu-eg-apply-to-must-/nyc_airbnb/runs/678e5a1a</a><br/>\n",
       "                Run data is saved locally in <code>/workspaces/nd0821-c2-build-model-workflow-starter/src/eda/wandb/run-20240620_161537-678e5a1a</code><br/><br/>\n",
       "            "
      ],
      "text/plain": [
       "<IPython.core.display.HTML object>"
      ]
     },
     "metadata": {},
     "output_type": "display_data"
    },
    {
     "name": "stdout",
     "output_type": "stream",
     "text": [
      "Error in callback <bound method _WandbInit._pause_backend of <wandb.sdk.wandb_init._WandbInit object at 0x72f1f9eff6d0>> (for post_run_cell), with arguments args (<ExecutionResult object at 72f1fa786f10, execution_count=4 error_before_exec=None error_in_exec=None info=<ExecutionInfo object at 72f1fafe71f0, raw_cell=\"import wandb\n",
      "import pandas as pd\n",
      "\n",
      "run = wandb.init..\" store_history=True silent=False shell_futures=True cell_id=vscode-notebook-cell://codespaces%2Bhumble-robot-rvgwv6ggr4r2q4p/workspaces/nd0821-c2-build-model-workflow-starter/src/eda/EDA.ipynb#W3sdnNjb2RlLXJlbW90ZQ%3D%3D> result=None>,),kwargs {}:\n"
     ]
    },
    {
     "ename": "TypeError",
     "evalue": "_pause_backend() takes 1 positional argument but 2 were given",
     "output_type": "error",
     "traceback": [
      "\u001b[0;31m---------------------------------------------------------------------------\u001b[0m",
      "\u001b[0;31mTypeError\u001b[0m                                 Traceback (most recent call last)",
      "\u001b[0;31mTypeError\u001b[0m: _pause_backend() takes 1 positional argument but 2 were given"
     ]
    }
   ],
   "source": [
    "import wandb\n",
    "import pandas as pd\n",
    "\n",
    "run = wandb.init(project=\"nyc_airbnb\", group=\"eda\", save_code=True)\n",
    "local_path = wandb.use_artifact(\"sample.csv:latest\").file()\n",
    "df = pd.read_csv(local_path)"
   ]
  },
  {
   "cell_type": "code",
   "execution_count": 5,
   "metadata": {},
   "outputs": [
    {
     "name": "stdout",
     "output_type": "stream",
     "text": [
      "Error in callback <bound method _WandbInit._resume_backend of <wandb.sdk.wandb_init._WandbInit object at 0x72f1f9eff6d0>> (for pre_run_cell), with arguments args (<ExecutionInfo object at 72f1bc4a4e50, raw_cell=\"# !pip install pandas_profiling\n",
      "# !pip install pan..\" store_history=True silent=False shell_futures=True cell_id=vscode-notebook-cell://codespaces%2Bhumble-robot-rvgwv6ggr4r2q4p/workspaces/nd0821-c2-build-model-workflow-starter/src/eda/EDA.ipynb#W4sdnNjb2RlLXJlbW90ZQ%3D%3D>,),kwargs {}:\n"
     ]
    },
    {
     "ename": "TypeError",
     "evalue": "_resume_backend() takes 1 positional argument but 2 were given",
     "output_type": "error",
     "traceback": [
      "\u001b[0;31m---------------------------------------------------------------------------\u001b[0m",
      "\u001b[0;31mTypeError\u001b[0m                                 Traceback (most recent call last)",
      "\u001b[0;31mTypeError\u001b[0m: _resume_backend() takes 1 positional argument but 2 were given"
     ]
    },
    {
     "name": "stdout",
     "output_type": "stream",
     "text": [
      "Error in callback <bound method _WandbInit._pause_backend of <wandb.sdk.wandb_init._WandbInit object at 0x72f1f9eff6d0>> (for post_run_cell), with arguments args (<ExecutionResult object at 72f1bc4a4d00, execution_count=5 error_before_exec=None error_in_exec=None info=<ExecutionInfo object at 72f1bc4a4e50, raw_cell=\"# !pip install pandas_profiling\n",
      "# !pip install pan..\" store_history=True silent=False shell_futures=True cell_id=vscode-notebook-cell://codespaces%2Bhumble-robot-rvgwv6ggr4r2q4p/workspaces/nd0821-c2-build-model-workflow-starter/src/eda/EDA.ipynb#W4sdnNjb2RlLXJlbW90ZQ%3D%3D> result=None>,),kwargs {}:\n"
     ]
    },
    {
     "ename": "TypeError",
     "evalue": "_pause_backend() takes 1 positional argument but 2 were given",
     "output_type": "error",
     "traceback": [
      "\u001b[0;31m---------------------------------------------------------------------------\u001b[0m",
      "\u001b[0;31mTypeError\u001b[0m                                 Traceback (most recent call last)",
      "\u001b[0;31mTypeError\u001b[0m: _pause_backend() takes 1 positional argument but 2 were given"
     ]
    }
   ],
   "source": [
    "# !pip install pandas_profiling\n",
    "# !pip install pandas-profiling --upgrade\n"
   ]
  },
  {
   "cell_type": "code",
   "execution_count": 6,
   "metadata": {},
   "outputs": [
    {
     "name": "stdout",
     "output_type": "stream",
     "text": [
      "Error in callback <bound method _WandbInit._resume_backend of <wandb.sdk.wandb_init._WandbInit object at 0x72f1f9eff6d0>> (for pre_run_cell), with arguments args (<ExecutionInfo object at 72f1bc4a4fd0, raw_cell=\"# !pip install pydantic==1.8.2\n",
      "# !pip uninstall py..\" store_history=True silent=False shell_futures=True cell_id=vscode-notebook-cell://codespaces%2Bhumble-robot-rvgwv6ggr4r2q4p/workspaces/nd0821-c2-build-model-workflow-starter/src/eda/EDA.ipynb#W5sdnNjb2RlLXJlbW90ZQ%3D%3D>,),kwargs {}:\n"
     ]
    },
    {
     "ename": "TypeError",
     "evalue": "_resume_backend() takes 1 positional argument but 2 were given",
     "output_type": "error",
     "traceback": [
      "\u001b[0;31m---------------------------------------------------------------------------\u001b[0m",
      "\u001b[0;31mTypeError\u001b[0m                                 Traceback (most recent call last)",
      "\u001b[0;31mTypeError\u001b[0m: _resume_backend() takes 1 positional argument but 2 were given"
     ]
    },
    {
     "name": "stdout",
     "output_type": "stream",
     "text": [
      "Channels:\n",
      " - conda-forge\n",
      " - defaults\n",
      "Platform: linux-64\n",
      "Collecting package metadata (repodata.json): done\n",
      "Solving environment: done\n",
      "\n",
      "## Package Plan ##\n",
      "\n",
      "  environment location: /opt/conda/envs/mlflow-05200bb1b9d2b6fc2bb55a121c3dcd22ef01d633\n",
      "\n",
      "  added / updated specs:\n",
      "    - ydata-profiling\n",
      "\n",
      "\n",
      "The following NEW packages will be INSTALLED:\n",
      "\n",
      "  llvmlite           conda-forge/linux-64::llvmlite-0.43.0-py39h81bab63_0 \n",
      "  numba              conda-forge/linux-64::numba-0.60.0-py39h0320e7d_0 \n",
      "\n",
      "\n",
      "\n",
      "Downloading and Extracting Packages:\n",
      "\n",
      "Preparing transaction: done\n",
      "Verifying transaction: done\n",
      "Executing transaction: done\n",
      "Error in callback <bound method _WandbInit._pause_backend of <wandb.sdk.wandb_init._WandbInit object at 0x72f1f9eff6d0>> (for post_run_cell), with arguments args (<ExecutionResult object at 72f1fa78d550, execution_count=6 error_before_exec=None error_in_exec=None info=<ExecutionInfo object at 72f1bc4a4fd0, raw_cell=\"# !pip install pydantic==1.8.2\n",
      "# !pip uninstall py..\" store_history=True silent=False shell_futures=True cell_id=vscode-notebook-cell://codespaces%2Bhumble-robot-rvgwv6ggr4r2q4p/workspaces/nd0821-c2-build-model-workflow-starter/src/eda/EDA.ipynb#W5sdnNjb2RlLXJlbW90ZQ%3D%3D> result=None>,),kwargs {}:\n"
     ]
    },
    {
     "ename": "TypeError",
     "evalue": "_pause_backend() takes 1 positional argument but 2 were given",
     "output_type": "error",
     "traceback": [
      "\u001b[0;31m---------------------------------------------------------------------------\u001b[0m",
      "\u001b[0;31mTypeError\u001b[0m                                 Traceback (most recent call last)",
      "\u001b[0;31mTypeError\u001b[0m: _pause_backend() takes 1 positional argument but 2 were given"
     ]
    }
   ],
   "source": [
    "# !pip install pydantic==1.8.2\n",
    "# !pip uninstall pydantic -y\n",
    "# !pip uninstall pandas_profiling -y\n",
    "# !conda install -c conda-forge pandas-profiling -y\n",
    "! conda install -c conda-forge ydata-profiling -y\n"
   ]
  },
  {
   "cell_type": "code",
   "execution_count": 7,
   "metadata": {},
   "outputs": [
    {
     "name": "stdout",
     "output_type": "stream",
     "text": [
      "Error in callback <bound method _WandbInit._resume_backend of <wandb.sdk.wandb_init._WandbInit object at 0x72f1f9eff6d0>> (for pre_run_cell), with arguments args (<ExecutionInfo object at 72f1bc4a4730, raw_cell=\"! pip install numba\" store_history=True silent=False shell_futures=True cell_id=vscode-notebook-cell://codespaces%2Bhumble-robot-rvgwv6ggr4r2q4p/workspaces/nd0821-c2-build-model-workflow-starter/src/eda/EDA.ipynb#W6sdnNjb2RlLXJlbW90ZQ%3D%3D>,),kwargs {}:\n"
     ]
    },
    {
     "ename": "TypeError",
     "evalue": "_resume_backend() takes 1 positional argument but 2 were given",
     "output_type": "error",
     "traceback": [
      "\u001b[0;31m---------------------------------------------------------------------------\u001b[0m",
      "\u001b[0;31mTypeError\u001b[0m                                 Traceback (most recent call last)",
      "\u001b[0;31mTypeError\u001b[0m: _resume_backend() takes 1 positional argument but 2 were given"
     ]
    },
    {
     "name": "stdout",
     "output_type": "stream",
     "text": [
      "Requirement already satisfied: numba in /opt/conda/envs/mlflow-05200bb1b9d2b6fc2bb55a121c3dcd22ef01d633/lib/python3.9/site-packages (0.60.0)\n",
      "Requirement already satisfied: llvmlite<0.44,>=0.43.0dev0 in /opt/conda/envs/mlflow-05200bb1b9d2b6fc2bb55a121c3dcd22ef01d633/lib/python3.9/site-packages (from numba) (0.43.0)\n",
      "Requirement already satisfied: numpy<2.1,>=1.22 in /opt/conda/envs/mlflow-05200bb1b9d2b6fc2bb55a121c3dcd22ef01d633/lib/python3.9/site-packages (from numba) (1.26.4)\n",
      "Error in callback <bound method _WandbInit._pause_backend of <wandb.sdk.wandb_init._WandbInit object at 0x72f1f9eff6d0>> (for post_run_cell), with arguments args (<ExecutionResult object at 72f1bc4a4e20, execution_count=7 error_before_exec=None error_in_exec=None info=<ExecutionInfo object at 72f1bc4a4730, raw_cell=\"! pip install numba\" store_history=True silent=False shell_futures=True cell_id=vscode-notebook-cell://codespaces%2Bhumble-robot-rvgwv6ggr4r2q4p/workspaces/nd0821-c2-build-model-workflow-starter/src/eda/EDA.ipynb#W6sdnNjb2RlLXJlbW90ZQ%3D%3D> result=None>,),kwargs {}:\n"
     ]
    },
    {
     "ename": "TypeError",
     "evalue": "_pause_backend() takes 1 positional argument but 2 were given",
     "output_type": "error",
     "traceback": [
      "\u001b[0;31m---------------------------------------------------------------------------\u001b[0m",
      "\u001b[0;31mTypeError\u001b[0m                                 Traceback (most recent call last)",
      "\u001b[0;31mTypeError\u001b[0m: _pause_backend() takes 1 positional argument but 2 were given"
     ]
    }
   ],
   "source": [
    "! pip install numba"
   ]
  },
  {
   "cell_type": "code",
   "execution_count": 8,
   "metadata": {},
   "outputs": [
    {
     "name": "stdout",
     "output_type": "stream",
     "text": [
      "Error in callback <bound method _WandbInit._resume_backend of <wandb.sdk.wandb_init._WandbInit object at 0x72f1f9eff6d0>> (for pre_run_cell), with arguments args (<ExecutionInfo object at 72f1bc5d4310, raw_cell=\"! pip install numba==0.58.1\" store_history=True silent=False shell_futures=True cell_id=vscode-notebook-cell://codespaces%2Bhumble-robot-rvgwv6ggr4r2q4p/workspaces/nd0821-c2-build-model-workflow-starter/src/eda/EDA.ipynb#X10sdnNjb2RlLXJlbW90ZQ%3D%3D>,),kwargs {}:\n"
     ]
    },
    {
     "ename": "TypeError",
     "evalue": "_resume_backend() takes 1 positional argument but 2 were given",
     "output_type": "error",
     "traceback": [
      "\u001b[0;31m---------------------------------------------------------------------------\u001b[0m",
      "\u001b[0;31mTypeError\u001b[0m                                 Traceback (most recent call last)",
      "\u001b[0;31mTypeError\u001b[0m: _resume_backend() takes 1 positional argument but 2 were given"
     ]
    },
    {
     "name": "stdout",
     "output_type": "stream",
     "text": [
      "Collecting numba==0.58.1\n",
      "  Using cached numba-0.58.1-cp39-cp39-manylinux2014_x86_64.manylinux_2_17_x86_64.whl (3.6 MB)\n",
      "Requirement already satisfied: numpy<1.27,>=1.22 in /opt/conda/envs/mlflow-05200bb1b9d2b6fc2bb55a121c3dcd22ef01d633/lib/python3.9/site-packages (from numba==0.58.1) (1.26.4)\n",
      "Collecting llvmlite<0.42,>=0.41.0dev0\n",
      "  Using cached llvmlite-0.41.1-cp39-cp39-manylinux_2_17_x86_64.manylinux2014_x86_64.whl (43.6 MB)\n",
      "Installing collected packages: llvmlite, numba\n",
      "  Attempting uninstall: llvmlite\n",
      "    Found existing installation: llvmlite 0.43.0\n",
      "    Uninstalling llvmlite-0.43.0:\n",
      "      Successfully uninstalled llvmlite-0.43.0\n",
      "  Attempting uninstall: numba\n",
      "    Found existing installation: numba 0.60.0\n",
      "    Uninstalling numba-0.60.0:\n",
      "      Successfully uninstalled numba-0.60.0\n",
      "\u001b[31mERROR: pip's dependency resolver does not currently take into account all the packages that are installed. This behaviour is the source of the following dependency conflicts.\n",
      "ydata-profiling 0.0.dev0 requires matplotlib<3.9,>=3.2, but you have matplotlib 3.9.0 which is incompatible.\n",
      "ydata-profiling 0.0.dev0 requires wordcloud>=1.9.1, but you have wordcloud 0.0.0 which is incompatible.\u001b[0m\n",
      "Successfully installed llvmlite-0.41.1 numba-0.58.1\n",
      "Error in callback <bound method _WandbInit._pause_backend of <wandb.sdk.wandb_init._WandbInit object at 0x72f1f9eff6d0>> (for post_run_cell), with arguments args (<ExecutionResult object at 72f1bc5d4e20, execution_count=8 error_before_exec=None error_in_exec=None info=<ExecutionInfo object at 72f1bc5d4310, raw_cell=\"! pip install numba==0.58.1\" store_history=True silent=False shell_futures=True cell_id=vscode-notebook-cell://codespaces%2Bhumble-robot-rvgwv6ggr4r2q4p/workspaces/nd0821-c2-build-model-workflow-starter/src/eda/EDA.ipynb#X10sdnNjb2RlLXJlbW90ZQ%3D%3D> result=None>,),kwargs {}:\n"
     ]
    },
    {
     "ename": "TypeError",
     "evalue": "_pause_backend() takes 1 positional argument but 2 were given",
     "output_type": "error",
     "traceback": [
      "\u001b[0;31m---------------------------------------------------------------------------\u001b[0m",
      "\u001b[0;31mTypeError\u001b[0m                                 Traceback (most recent call last)",
      "\u001b[0;31mTypeError\u001b[0m: _pause_backend() takes 1 positional argument but 2 were given"
     ]
    }
   ],
   "source": [
    "! pip install numba==0.58.1"
   ]
  },
  {
   "cell_type": "code",
   "execution_count": 9,
   "metadata": {},
   "outputs": [
    {
     "name": "stdout",
     "output_type": "stream",
     "text": [
      "Error in callback <bound method _WandbInit._resume_backend of <wandb.sdk.wandb_init._WandbInit object at 0x72f1f9eff6d0>> (for pre_run_cell), with arguments args (<ExecutionInfo object at 72f1bc5d43a0, raw_cell=\"from ydata_profiling import ProfileReport\" store_history=True silent=False shell_futures=True cell_id=vscode-notebook-cell://codespaces%2Bhumble-robot-rvgwv6ggr4r2q4p/workspaces/nd0821-c2-build-model-workflow-starter/src/eda/EDA.ipynb#X11sdnNjb2RlLXJlbW90ZQ%3D%3D>,),kwargs {}:\n"
     ]
    },
    {
     "ename": "TypeError",
     "evalue": "_resume_backend() takes 1 positional argument but 2 were given",
     "output_type": "error",
     "traceback": [
      "\u001b[0;31m---------------------------------------------------------------------------\u001b[0m",
      "\u001b[0;31mTypeError\u001b[0m                                 Traceback (most recent call last)",
      "\u001b[0;31mTypeError\u001b[0m: _resume_backend() takes 1 positional argument but 2 were given"
     ]
    },
    {
     "name": "stderr",
     "output_type": "stream",
     "text": [
      "/opt/conda/envs/mlflow-05200bb1b9d2b6fc2bb55a121c3dcd22ef01d633/lib/python3.9/site-packages/tqdm/auto.py:21: TqdmWarning: IProgress not found. Please update jupyter and ipywidgets. See https://ipywidgets.readthedocs.io/en/stable/user_install.html\n",
      "  from .autonotebook import tqdm as notebook_tqdm\n"
     ]
    },
    {
     "name": "stdout",
     "output_type": "stream",
     "text": [
      "Error in callback <bound method _WandbInit._pause_backend of <wandb.sdk.wandb_init._WandbInit object at 0x72f1f9eff6d0>> (for post_run_cell), with arguments args (<ExecutionResult object at 72f1bc5d4130, execution_count=9 error_before_exec=None error_in_exec=None info=<ExecutionInfo object at 72f1bc5d43a0, raw_cell=\"from ydata_profiling import ProfileReport\" store_history=True silent=False shell_futures=True cell_id=vscode-notebook-cell://codespaces%2Bhumble-robot-rvgwv6ggr4r2q4p/workspaces/nd0821-c2-build-model-workflow-starter/src/eda/EDA.ipynb#X11sdnNjb2RlLXJlbW90ZQ%3D%3D> result=None>,),kwargs {}:\n"
     ]
    },
    {
     "ename": "TypeError",
     "evalue": "_pause_backend() takes 1 positional argument but 2 were given",
     "output_type": "error",
     "traceback": [
      "\u001b[0;31m---------------------------------------------------------------------------\u001b[0m",
      "\u001b[0;31mTypeError\u001b[0m                                 Traceback (most recent call last)",
      "\u001b[0;31mTypeError\u001b[0m: _pause_backend() takes 1 positional argument but 2 were given"
     ]
    }
   ],
   "source": [
    "from ydata_profiling import ProfileReport"
   ]
  },
  {
   "cell_type": "code",
   "execution_count": 10,
   "metadata": {},
   "outputs": [
    {
     "name": "stdout",
     "output_type": "stream",
     "text": [
      "Error in callback <bound method _WandbInit._resume_backend of <wandb.sdk.wandb_init._WandbInit object at 0x72f1f9eff6d0>> (for pre_run_cell), with arguments args (<ExecutionInfo object at 72f1bc5d4280, raw_cell=\"! pip install pandas\n",
      "\" store_history=True silent=False shell_futures=True cell_id=vscode-notebook-cell://codespaces%2Bhumble-robot-rvgwv6ggr4r2q4p/workspaces/nd0821-c2-build-model-workflow-starter/src/eda/EDA.ipynb#X12sdnNjb2RlLXJlbW90ZQ%3D%3D>,),kwargs {}:\n"
     ]
    },
    {
     "ename": "TypeError",
     "evalue": "_resume_backend() takes 1 positional argument but 2 were given",
     "output_type": "error",
     "traceback": [
      "\u001b[0;31m---------------------------------------------------------------------------\u001b[0m",
      "\u001b[0;31mTypeError\u001b[0m                                 Traceback (most recent call last)",
      "\u001b[0;31mTypeError\u001b[0m: _resume_backend() takes 1 positional argument but 2 were given"
     ]
    },
    {
     "name": "stdout",
     "output_type": "stream",
     "text": [
      "Requirement already satisfied: pandas in /opt/conda/envs/mlflow-05200bb1b9d2b6fc2bb55a121c3dcd22ef01d633/lib/python3.9/site-packages (2.2.2)\n",
      "Requirement already satisfied: python-dateutil>=2.8.2 in /opt/conda/envs/mlflow-05200bb1b9d2b6fc2bb55a121c3dcd22ef01d633/lib/python3.9/site-packages (from pandas) (2.9.0)\n",
      "Requirement already satisfied: pytz>=2020.1 in /opt/conda/envs/mlflow-05200bb1b9d2b6fc2bb55a121c3dcd22ef01d633/lib/python3.9/site-packages (from pandas) (2024.1)\n",
      "Requirement already satisfied: numpy>=1.22.4 in /opt/conda/envs/mlflow-05200bb1b9d2b6fc2bb55a121c3dcd22ef01d633/lib/python3.9/site-packages (from pandas) (1.26.4)\n",
      "Requirement already satisfied: tzdata>=2022.7 in /opt/conda/envs/mlflow-05200bb1b9d2b6fc2bb55a121c3dcd22ef01d633/lib/python3.9/site-packages (from pandas) (2024.1)\n",
      "Requirement already satisfied: six>=1.5 in /opt/conda/envs/mlflow-05200bb1b9d2b6fc2bb55a121c3dcd22ef01d633/lib/python3.9/site-packages (from python-dateutil>=2.8.2->pandas) (1.16.0)\n",
      "Error in callback <bound method _WandbInit._pause_backend of <wandb.sdk.wandb_init._WandbInit object at 0x72f1f9eff6d0>> (for post_run_cell), with arguments args (<ExecutionResult object at 72f1bc5d4220, execution_count=10 error_before_exec=None error_in_exec=None info=<ExecutionInfo object at 72f1bc5d4280, raw_cell=\"! pip install pandas\n",
      "\" store_history=True silent=False shell_futures=True cell_id=vscode-notebook-cell://codespaces%2Bhumble-robot-rvgwv6ggr4r2q4p/workspaces/nd0821-c2-build-model-workflow-starter/src/eda/EDA.ipynb#X12sdnNjb2RlLXJlbW90ZQ%3D%3D> result=None>,),kwargs {}:\n"
     ]
    },
    {
     "ename": "TypeError",
     "evalue": "_pause_backend() takes 1 positional argument but 2 were given",
     "output_type": "error",
     "traceback": [
      "\u001b[0;31m---------------------------------------------------------------------------\u001b[0m",
      "\u001b[0;31mTypeError\u001b[0m                                 Traceback (most recent call last)",
      "\u001b[0;31mTypeError\u001b[0m: _pause_backend() takes 1 positional argument but 2 were given"
     ]
    }
   ],
   "source": [
    "! pip install pandas\n"
   ]
  },
  {
   "cell_type": "code",
   "execution_count": 11,
   "metadata": {},
   "outputs": [
    {
     "name": "stdout",
     "output_type": "stream",
     "text": [
      "Error in callback <bound method _WandbInit._resume_backend of <wandb.sdk.wandb_init._WandbInit object at 0x72f1f9eff6d0>> (for pre_run_cell), with arguments args (<ExecutionInfo object at 72f1bc4a4df0, raw_cell=\"! pip install ipywidgets\n",
      "\" store_history=True silent=False shell_futures=True cell_id=vscode-notebook-cell://codespaces%2Bhumble-robot-rvgwv6ggr4r2q4p/workspaces/nd0821-c2-build-model-workflow-starter/src/eda/EDA.ipynb#X13sdnNjb2RlLXJlbW90ZQ%3D%3D>,),kwargs {}:\n"
     ]
    },
    {
     "ename": "TypeError",
     "evalue": "_resume_backend() takes 1 positional argument but 2 were given",
     "output_type": "error",
     "traceback": [
      "\u001b[0;31m---------------------------------------------------------------------------\u001b[0m",
      "\u001b[0;31mTypeError\u001b[0m                                 Traceback (most recent call last)",
      "\u001b[0;31mTypeError\u001b[0m: _resume_backend() takes 1 positional argument but 2 were given"
     ]
    },
    {
     "name": "stdout",
     "output_type": "stream",
     "text": [
      "Collecting ipywidgets\n",
      "  Downloading ipywidgets-8.1.3-py3-none-any.whl (139 kB)\n",
      "\u001b[K     |████████████████████████████████| 139 kB 14.8 MB/s eta 0:00:01\n",
      "\u001b[?25hRequirement already satisfied: comm>=0.1.3 in /opt/conda/envs/mlflow-05200bb1b9d2b6fc2bb55a121c3dcd22ef01d633/lib/python3.9/site-packages (from ipywidgets) (0.2.2)\n",
      "Requirement already satisfied: ipython>=6.1.0 in /opt/conda/envs/mlflow-05200bb1b9d2b6fc2bb55a121c3dcd22ef01d633/lib/python3.9/site-packages (from ipywidgets) (8.18.1)\n",
      "Requirement already satisfied: traitlets>=4.3.1 in /opt/conda/envs/mlflow-05200bb1b9d2b6fc2bb55a121c3dcd22ef01d633/lib/python3.9/site-packages (from ipywidgets) (5.14.3)\n",
      "Requirement already satisfied: matplotlib-inline in /opt/conda/envs/mlflow-05200bb1b9d2b6fc2bb55a121c3dcd22ef01d633/lib/python3.9/site-packages (from ipython>=6.1.0->ipywidgets) (0.1.7)\n",
      "Requirement already satisfied: prompt-toolkit<3.1.0,>=3.0.41 in /opt/conda/envs/mlflow-05200bb1b9d2b6fc2bb55a121c3dcd22ef01d633/lib/python3.9/site-packages (from ipython>=6.1.0->ipywidgets) (3.0.47)\n",
      "Requirement already satisfied: typing-extensions in /opt/conda/envs/mlflow-05200bb1b9d2b6fc2bb55a121c3dcd22ef01d633/lib/python3.9/site-packages (from ipython>=6.1.0->ipywidgets) (4.12.2)\n",
      "Requirement already satisfied: pexpect>4.3 in /opt/conda/envs/mlflow-05200bb1b9d2b6fc2bb55a121c3dcd22ef01d633/lib/python3.9/site-packages (from ipython>=6.1.0->ipywidgets) (4.9.0)\n",
      "Requirement already satisfied: decorator in /opt/conda/envs/mlflow-05200bb1b9d2b6fc2bb55a121c3dcd22ef01d633/lib/python3.9/site-packages (from ipython>=6.1.0->ipywidgets) (5.1.1)\n",
      "Requirement already satisfied: exceptiongroup in /opt/conda/envs/mlflow-05200bb1b9d2b6fc2bb55a121c3dcd22ef01d633/lib/python3.9/site-packages (from ipython>=6.1.0->ipywidgets) (1.2.0)\n",
      "Requirement already satisfied: stack-data in /opt/conda/envs/mlflow-05200bb1b9d2b6fc2bb55a121c3dcd22ef01d633/lib/python3.9/site-packages (from ipython>=6.1.0->ipywidgets) (0.6.2)\n",
      "Requirement already satisfied: pygments>=2.4.0 in /opt/conda/envs/mlflow-05200bb1b9d2b6fc2bb55a121c3dcd22ef01d633/lib/python3.9/site-packages (from ipython>=6.1.0->ipywidgets) (2.18.0)\n",
      "Requirement already satisfied: jedi>=0.16 in /opt/conda/envs/mlflow-05200bb1b9d2b6fc2bb55a121c3dcd22ef01d633/lib/python3.9/site-packages (from ipython>=6.1.0->ipywidgets) (0.19.1)\n",
      "Requirement already satisfied: parso<0.9.0,>=0.8.3 in /opt/conda/envs/mlflow-05200bb1b9d2b6fc2bb55a121c3dcd22ef01d633/lib/python3.9/site-packages (from jedi>=0.16->ipython>=6.1.0->ipywidgets) (0.8.4)\n",
      "Collecting jupyterlab-widgets~=3.0.11\n",
      "  Downloading jupyterlab_widgets-3.0.11-py3-none-any.whl (214 kB)\n",
      "\u001b[K     |████████████████████████████████| 214 kB 49.5 MB/s eta 0:00:01\n",
      "\u001b[?25hRequirement already satisfied: ptyprocess>=0.5 in /opt/conda/envs/mlflow-05200bb1b9d2b6fc2bb55a121c3dcd22ef01d633/lib/python3.9/site-packages (from pexpect>4.3->ipython>=6.1.0->ipywidgets) (0.7.0)\n",
      "Requirement already satisfied: wcwidth in /opt/conda/envs/mlflow-05200bb1b9d2b6fc2bb55a121c3dcd22ef01d633/lib/python3.9/site-packages (from prompt-toolkit<3.1.0,>=3.0.41->ipython>=6.1.0->ipywidgets) (0.2.13)\n",
      "Collecting widgetsnbextension~=4.0.11\n",
      "  Downloading widgetsnbextension-4.0.11-py3-none-any.whl (2.3 MB)\n",
      "\u001b[K     |████████████████████████████████| 2.3 MB 55.6 MB/s eta 0:00:01\n",
      "\u001b[?25hRequirement already satisfied: executing>=1.2.0 in /opt/conda/envs/mlflow-05200bb1b9d2b6fc2bb55a121c3dcd22ef01d633/lib/python3.9/site-packages (from stack-data->ipython>=6.1.0->ipywidgets) (2.0.1)\n",
      "Requirement already satisfied: pure-eval in /opt/conda/envs/mlflow-05200bb1b9d2b6fc2bb55a121c3dcd22ef01d633/lib/python3.9/site-packages (from stack-data->ipython>=6.1.0->ipywidgets) (0.2.2)\n",
      "Requirement already satisfied: asttokens>=2.1.0 in /opt/conda/envs/mlflow-05200bb1b9d2b6fc2bb55a121c3dcd22ef01d633/lib/python3.9/site-packages (from stack-data->ipython>=6.1.0->ipywidgets) (2.4.1)\n",
      "Requirement already satisfied: six>=1.12.0 in /opt/conda/envs/mlflow-05200bb1b9d2b6fc2bb55a121c3dcd22ef01d633/lib/python3.9/site-packages (from asttokens>=2.1.0->stack-data->ipython>=6.1.0->ipywidgets) (1.16.0)\n",
      "Installing collected packages: widgetsnbextension, jupyterlab-widgets, ipywidgets\n",
      "Successfully installed ipywidgets-8.1.3 jupyterlab-widgets-3.0.11 widgetsnbextension-4.0.11\n",
      "Error in callback <bound method _WandbInit._pause_backend of <wandb.sdk.wandb_init._WandbInit object at 0x72f1f9eff6d0>> (for post_run_cell), with arguments args (<ExecutionResult object at 72f1bc4a4e80, execution_count=11 error_before_exec=None error_in_exec=None info=<ExecutionInfo object at 72f1bc4a4df0, raw_cell=\"! pip install ipywidgets\n",
      "\" store_history=True silent=False shell_futures=True cell_id=vscode-notebook-cell://codespaces%2Bhumble-robot-rvgwv6ggr4r2q4p/workspaces/nd0821-c2-build-model-workflow-starter/src/eda/EDA.ipynb#X13sdnNjb2RlLXJlbW90ZQ%3D%3D> result=None>,),kwargs {}:\n"
     ]
    },
    {
     "ename": "TypeError",
     "evalue": "_pause_backend() takes 1 positional argument but 2 were given",
     "output_type": "error",
     "traceback": [
      "\u001b[0;31m---------------------------------------------------------------------------\u001b[0m",
      "\u001b[0;31mTypeError\u001b[0m                                 Traceback (most recent call last)",
      "\u001b[0;31mTypeError\u001b[0m: _pause_backend() takes 1 positional argument but 2 were given"
     ]
    }
   ],
   "source": [
    "! pip install ipywidgets\n"
   ]
  },
  {
   "cell_type": "code",
   "execution_count": 12,
   "metadata": {},
   "outputs": [
    {
     "name": "stdout",
     "output_type": "stream",
     "text": [
      "Error in callback <bound method _WandbInit._resume_backend of <wandb.sdk.wandb_init._WandbInit object at 0x72f1f9eff6d0>> (for pre_run_cell), with arguments args (<ExecutionInfo object at 72f1bc4a4d90, raw_cell=\"profile = ProfileReport(df)\n",
      "profile.to_widgets()\" store_history=True silent=False shell_futures=True cell_id=vscode-notebook-cell://codespaces%2Bhumble-robot-rvgwv6ggr4r2q4p/workspaces/nd0821-c2-build-model-workflow-starter/src/eda/EDA.ipynb#X14sdnNjb2RlLXJlbW90ZQ%3D%3D>,),kwargs {}:\n"
     ]
    },
    {
     "ename": "TypeError",
     "evalue": "_resume_backend() takes 1 positional argument but 2 were given",
     "output_type": "error",
     "traceback": [
      "\u001b[0;31m---------------------------------------------------------------------------\u001b[0m",
      "\u001b[0;31mTypeError\u001b[0m                                 Traceback (most recent call last)",
      "\u001b[0;31mTypeError\u001b[0m: _resume_backend() takes 1 positional argument but 2 were given"
     ]
    },
    {
     "name": "stderr",
     "output_type": "stream",
     "text": [
      "Summarize dataset:  78%|███████▊  | 18/23 [00:00<00:00, 18.57it/s, Calculate auto correlation]                      /opt/conda/envs/mlflow-05200bb1b9d2b6fc2bb55a121c3dcd22ef01d633/lib/python3.9/site-packages/ydata_profiling/model/correlations.py:66: UserWarning: There was an attempt to calculate the auto correlation, but this failed.\n",
      "To hide this warning, disable the calculation\n",
      "(using `df.profile_report(correlations={\"auto\": {\"calculate\": False}})`\n",
      "If this is problematic for your use case, please report this as an issue:\n",
      "https://github.com/ydataai/ydata-profiling/issues\n",
      "(include the error message: 'could not convert string to float: 'Queens'')\n",
      "  warnings.warn(\n",
      "Summarize dataset: 100%|██████████| 126/126 [00:13<00:00,  9.28it/s, Completed]                                                             \n",
      "Generate report structure: 100%|██████████| 1/1 [00:06<00:00,  6.60s/it]\n",
      "Render widgets:   0%|          | 0/1 [00:00<?, ?it/s]"
     ]
    }
   ],
   "source": [
    "profile = ProfileReport(df)\n",
    "profile.to_widgets()"
   ]
  },
  {
   "cell_type": "code",
   "execution_count": null,
   "metadata": {},
   "outputs": [],
   "source": [
    "# Drop outliers\n",
    "min_price = 10\n",
    "max_price = 350\n",
    "idx = df['price'].between(min_price, max_price)\n",
    "df = df[idx].copy()\n",
    "# Convert last_review to datetime\n",
    "df['last_review'] = pd.to_datetime(df['last_review'])"
   ]
  },
  {
   "cell_type": "code",
   "execution_count": null,
   "metadata": {},
   "outputs": [
    {
     "name": "stdout",
     "output_type": "stream",
     "text": [
      "<class 'pandas.core.frame.DataFrame'>\n",
      "Int64Index: 19001 entries, 0 to 19999\n",
      "Data columns (total 16 columns):\n",
      " #   Column                          Non-Null Count  Dtype         \n",
      "---  ------                          --------------  -----         \n",
      " 0   id                              19001 non-null  int64         \n",
      " 1   name                            18994 non-null  object        \n",
      " 2   host_id                         19001 non-null  int64         \n",
      " 3   host_name                       18993 non-null  object        \n",
      " 4   neighbourhood_group             19001 non-null  object        \n",
      " 5   neighbourhood                   19001 non-null  object        \n",
      " 6   latitude                        19001 non-null  float64       \n",
      " 7   longitude                       19001 non-null  float64       \n",
      " 8   room_type                       19001 non-null  object        \n",
      " 9   price                           19001 non-null  int64         \n",
      " 10  minimum_nights                  19001 non-null  int64         \n",
      " 11  number_of_reviews               19001 non-null  int64         \n",
      " 12  last_review                     15243 non-null  datetime64[ns]\n",
      " 13  reviews_per_month               15243 non-null  float64       \n",
      " 14  calculated_host_listings_count  19001 non-null  int64         \n",
      " 15  availability_365                19001 non-null  int64         \n",
      "dtypes: datetime64[ns](1), float64(3), int64(7), object(5)\n",
      "memory usage: 2.5+ MB\n"
     ]
    }
   ],
   "source": [
    "df.info()"
   ]
  },
  {
   "cell_type": "code",
   "execution_count": null,
   "metadata": {},
   "outputs": [
    {
     "data": {
      "text/html": [
       "<br/>Waiting for W&B process to finish, PID 34866<br/>Program ended successfully."
      ],
      "text/plain": [
       "<IPython.core.display.HTML object>"
      ]
     },
     "metadata": {},
     "output_type": "display_data"
    },
    {
     "data": {
      "application/vnd.jupyter.widget-view+json": {
       "model_id": "917d182f81414ab5aa5bfc1defb803b8",
       "version_major": 2,
       "version_minor": 0
      },
      "text/plain": [
       "VBox(children=(Label(value=' 0.00MB of 0.00MB uploaded (0.00MB deduped)\\r'), FloatProgress(value=1.0, max=1.0)…"
      ]
     },
     "metadata": {},
     "output_type": "display_data"
    },
    {
     "data": {
      "text/html": [
       "Find user logs for this run at: <code>/workspaces/nd0821-c2-build-model-workflow-starter/src/eda/wandb/run-20240619_212122-9i5ixdyu/logs/debug.log</code>"
      ],
      "text/plain": [
       "<IPython.core.display.HTML object>"
      ]
     },
     "metadata": {},
     "output_type": "display_data"
    },
    {
     "data": {
      "text/html": [
       "Find internal logs for this run at: <code>/workspaces/nd0821-c2-build-model-workflow-starter/src/eda/wandb/run-20240619_212122-9i5ixdyu/logs/debug-internal.log</code>"
      ],
      "text/plain": [
       "<IPython.core.display.HTML object>"
      ]
     },
     "metadata": {},
     "output_type": "display_data"
    },
    {
     "data": {
      "text/html": [
       "Synced 7 W&B file(s), 0 media file(s), 0 artifact file(s) and 1 other file(s)"
      ],
      "text/plain": [
       "<IPython.core.display.HTML object>"
      ]
     },
     "metadata": {},
     "output_type": "display_data"
    },
    {
     "data": {
      "text/html": [
       "\n",
       "                    <br/>Synced <strong style=\"color:#cdcd00\">ruby-smoke-10</strong>: <a href=\"https://wandb.ai/https-must-edu-eg-apply-to-must-/nyc_airbnb/runs/9i5ixdyu\" target=\"_blank\">https://wandb.ai/https-must-edu-eg-apply-to-must-/nyc_airbnb/runs/9i5ixdyu</a><br/>\n",
       "                "
      ],
      "text/plain": [
       "<IPython.core.display.HTML object>"
      ]
     },
     "metadata": {},
     "output_type": "display_data"
    }
   ],
   "source": [
    "run.finish()"
   ]
  },
  {
   "cell_type": "code",
   "execution_count": null,
   "metadata": {},
   "outputs": [],
   "source": []
  }
 ],
 "metadata": {
  "kernelspec": {
   "display_name": "Python 3",
   "language": "python",
   "name": "python3"
  },
  "language_info": {
   "codemirror_mode": {
    "name": "ipython",
    "version": 3
   },
   "file_extension": ".py",
   "mimetype": "text/x-python",
   "name": "python",
   "nbconvert_exporter": "python",
   "pygments_lexer": "ipython3",
   "version": "3.9.19"
  }
 },
 "nbformat": 4,
 "nbformat_minor": 2
}
